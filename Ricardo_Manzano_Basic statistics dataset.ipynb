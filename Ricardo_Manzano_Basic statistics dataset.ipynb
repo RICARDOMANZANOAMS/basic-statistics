{
 "cells": [
  {
   "cell_type": "markdown",
   "metadata": {},
   "source": [
    "In the present project is analyzed different statistics parameters and functions applied to the dataset \"Breast Cancer Wisconsin\" available in the following link:\n",
    "https://archive.ics.uci.edu/ml/machine-learning-databases/breast-cancer-wisconsin/breast-cancer-wisconsin.data.\n",
    "This dataset is composed of 11 columns or attributes and 699 instances as it is shown:\n",
    "   1. Sample code number           \n",
    "   2. Clump Thickness               \n",
    "   3. Uniformity of Cell Size      \n",
    "   4. Uniformity of Cell Shape      \n",
    "   5. Marginal Adhesion             \n",
    "   6. Single Epithelial Cell Size  \n",
    "   7. Bare Nuclei                   \n",
    "   8. Bland Chromatin               \n",
    "   9. Normal Nucleoli               \n",
    "   10. Mitoses.\n",
    "   11. Class(2 for benign, 4 for malignant).\n",
    "   \n",
    "It is important to highlight that the attribute number 1 __Sample code number__  has unique values for each instance. For this reason, it cannot be considered a feature if this dataset will use to train a classification model. In addition, the column 11 is the output or the label for each instance. Thus, it cannot consider a feature too.  \n",
    "  \n",
    "Before to compute the statistics and operations, it is necessary to import some libraries which help to compute in a fast and easy way most of the operations. Pandas, Csv, Mathplotlib and numpy are the libraries used in this homework.\n",
    "\n",
    "Pandas is useful to work with dataframes. It has thousand of functions to calculate statistics, difficult operations with dataframes. \n",
    "\n",
    "Numpy is powerful to work multidimensional vectors, linear algebra, transformations, statistics and other functions. \n",
    "\n",
    "Csv is useful to read, write, re-write csv files. In this homework it is was used to write some files with important results.\n",
    "\n",
    "Matplotlib is one of the most powerful tools to plot data with high quality and performance.\n",
    "\n",
    "In the next lines of code these libraries are imported. This libraries have been renamed with the prefix __as__ .\n"
   ]
  },
  {
   "cell_type": "code",
   "execution_count": 2,
   "metadata": {
    "scrolled": false
   },
   "outputs": [],
   "source": [
    "import csv\n",
    "import pandas as pd\n",
    "import matplotlib.pyplot as plt\n",
    "import numpy as num\n"
   ]
  },
  {
   "cell_type": "markdown",
   "metadata": {},
   "source": [
    "To import the data to phyton, it is necessary to declare the path where this file.txt was saved. After to declare the path, the function pd.read_csv from Pandas library is used to read the file __breastcancer.txt__ which has the data of interest.\n",
    "\n",
    "This file is imported into phyton as a dataframe; therefore, it is necessary to use dataframe operations from pandas to work with this data. "
   ]
  },
  {
   "cell_type": "code",
   "execution_count": 2,
   "metadata": {},
   "outputs": [
    {
     "name": "stdout",
     "output_type": "stream",
     "text": [
      "     Sample code number  Clump Thickness  Uniformity of Cell Size  \\\n",
      "0               1000025                5                        1   \n",
      "1               1002945                5                        4   \n",
      "2               1015425                3                        1   \n",
      "3               1016277                6                        8   \n",
      "4               1017023                4                        1   \n",
      "5               1017122                8                       10   \n",
      "6               1018099                1                        1   \n",
      "7               1018561                2                        1   \n",
      "8               1033078                2                        1   \n",
      "9               1033078                4                        2   \n",
      "10              1035283                1                        1   \n",
      "11              1036172                2                        1   \n",
      "12              1041801                5                        3   \n",
      "13              1043999                1                        1   \n",
      "14              1044572                8                        7   \n",
      "15              1047630                7                        4   \n",
      "16              1048672                4                        1   \n",
      "17              1049815                4                        1   \n",
      "18              1050670               10                        7   \n",
      "19              1050718                6                        1   \n",
      "20              1054590                7                        3   \n",
      "21              1054593               10                        5   \n",
      "22              1056784                3                        1   \n",
      "23              1057013                8                        4   \n",
      "24              1059552                1                        1   \n",
      "25              1065726                5                        2   \n",
      "26              1066373                3                        2   \n",
      "27              1066979                5                        1   \n",
      "28              1067444                2                        1   \n",
      "29              1070935                1                        1   \n",
      "..                  ...              ...                      ...   \n",
      "669             1350423                5                       10   \n",
      "670             1352848                3                       10   \n",
      "671             1353092                3                        2   \n",
      "672             1354840                2                        1   \n",
      "673             1354840                5                        3   \n",
      "674             1355260                1                        1   \n",
      "675             1365075                4                        1   \n",
      "676             1365328                1                        1   \n",
      "677             1368267                5                        1   \n",
      "678             1368273                1                        1   \n",
      "679             1368882                2                        1   \n",
      "680             1369821               10                       10   \n",
      "681             1371026                5                       10   \n",
      "682             1371920                5                        1   \n",
      "683              466906                1                        1   \n",
      "684              466906                1                        1   \n",
      "685              534555                1                        1   \n",
      "686              536708                1                        1   \n",
      "687              566346                3                        1   \n",
      "688              603148                4                        1   \n",
      "689              654546                1                        1   \n",
      "690              654546                1                        1   \n",
      "691              695091                5                       10   \n",
      "692              714039                3                        1   \n",
      "693              763235                3                        1   \n",
      "694              776715                3                        1   \n",
      "695              841769                2                        1   \n",
      "696              888820                5                       10   \n",
      "697              897471                4                        8   \n",
      "698              897471                4                        8   \n",
      "\n",
      "     Uniformity of Cell Shape  Marginal Adhesion   \\\n",
      "0                           1                   1   \n",
      "1                           4                   5   \n",
      "2                           1                   1   \n",
      "3                           8                   1   \n",
      "4                           1                   3   \n",
      "5                          10                   8   \n",
      "6                           1                   1   \n",
      "7                           2                   1   \n",
      "8                           1                   1   \n",
      "9                           1                   1   \n",
      "10                          1                   1   \n",
      "11                          1                   1   \n",
      "12                          3                   3   \n",
      "13                          1                   1   \n",
      "14                          5                  10   \n",
      "15                          6                   4   \n",
      "16                          1                   1   \n",
      "17                          1                   1   \n",
      "18                          7                   6   \n",
      "19                          1                   1   \n",
      "20                          2                  10   \n",
      "21                          5                   3   \n",
      "22                          1                   1   \n",
      "23                          5                   1   \n",
      "24                          1                   1   \n",
      "25                          3                   4   \n",
      "26                          1                   1   \n",
      "27                          1                   1   \n",
      "28                          1                   1   \n",
      "29                          3                   1   \n",
      "..                        ...                 ...   \n",
      "669                        10                   8   \n",
      "670                         7                   8   \n",
      "671                         1                   2   \n",
      "672                         1                   1   \n",
      "673                         2                   1   \n",
      "674                         1                   1   \n",
      "675                         4                   1   \n",
      "676                         2                   1   \n",
      "677                         1                   1   \n",
      "678                         1                   1   \n",
      "679                         1                   1   \n",
      "680                        10                  10   \n",
      "681                        10                  10   \n",
      "682                         1                   1   \n",
      "683                         1                   1   \n",
      "684                         1                   1   \n",
      "685                         1                   1   \n",
      "686                         1                   1   \n",
      "687                         1                   1   \n",
      "688                         1                   1   \n",
      "689                         1                   1   \n",
      "690                         1                   3   \n",
      "691                        10                   5   \n",
      "692                         1                   1   \n",
      "693                         1                   1   \n",
      "694                         1                   1   \n",
      "695                         1                   1   \n",
      "696                        10                   3   \n",
      "697                         6                   4   \n",
      "698                         8                   5   \n",
      "\n",
      "     Single Epithelial Cell Size Bare Nuclei   Bland Chromatin  \\\n",
      "0                              2           1                 3   \n",
      "1                              7          10                 3   \n",
      "2                              2           2                 3   \n",
      "3                              3           4                 3   \n",
      "4                              2           1                 3   \n",
      "5                              7          10                 9   \n",
      "6                              2          10                 3   \n",
      "7                              2           1                 3   \n",
      "8                              2           1                 1   \n",
      "9                              2           1                 2   \n",
      "10                             1           1                 3   \n",
      "11                             2           1                 2   \n",
      "12                             2           3                 4   \n",
      "13                             2           3                 3   \n",
      "14                             7           9                 5   \n",
      "15                             6           1                 4   \n",
      "16                             2           1                 2   \n",
      "17                             2           1                 3   \n",
      "18                             4          10                 4   \n",
      "19                             2           1                 3   \n",
      "20                             5          10                 5   \n",
      "21                             6           7                 7   \n",
      "22                             2           1                 2   \n",
      "23                             2           ?                 7   \n",
      "24                             2           1                 3   \n",
      "25                             2           7                 3   \n",
      "26                             1           1                 2   \n",
      "27                             2           1                 2   \n",
      "28                             2           1                 2   \n",
      "29                             2           1                 1   \n",
      "..                           ...         ...               ...   \n",
      "669                            5           5                 7   \n",
      "670                            5           8                 7   \n",
      "671                            2           1                 3   \n",
      "672                            2           1                 3   \n",
      "673                            3           1                 1   \n",
      "674                            2           1                 2   \n",
      "675                            2           1                 1   \n",
      "676                            2           1                 2   \n",
      "677                            2           1                 1   \n",
      "678                            2           1                 1   \n",
      "679                            2           1                 1   \n",
      "680                            5          10                10   \n",
      "681                            4          10                 5   \n",
      "682                            2           1                 3   \n",
      "683                            2           1                 1   \n",
      "684                            2           1                 1   \n",
      "685                            2           1                 1   \n",
      "686                            2           1                 1   \n",
      "687                            2           1                 2   \n",
      "688                            2           1                 1   \n",
      "689                            2           1                 1   \n",
      "690                            2           1                 1   \n",
      "691                            4           5                 4   \n",
      "692                            2           1                 1   \n",
      "693                            2           1                 2   \n",
      "694                            3           2                 1   \n",
      "695                            2           1                 1   \n",
      "696                            7           3                 8   \n",
      "697                            3           4                10   \n",
      "698                            4           5                10   \n",
      "\n",
      "     Normal Nucleoli  Mitoses  Class  \n",
      "0                  1        1      2  \n",
      "1                  2        1      2  \n",
      "2                  1        1      2  \n",
      "3                  7        1      2  \n",
      "4                  1        1      2  \n",
      "5                  7        1      4  \n",
      "6                  1        1      2  \n",
      "7                  1        1      2  \n",
      "8                  1        5      2  \n",
      "9                  1        1      2  \n",
      "10                 1        1      2  \n",
      "11                 1        1      2  \n",
      "12                 4        1      4  \n",
      "13                 1        1      2  \n",
      "14                 5        4      4  \n",
      "15                 3        1      4  \n",
      "16                 1        1      2  \n",
      "17                 1        1      2  \n",
      "18                 1        2      4  \n",
      "19                 1        1      2  \n",
      "20                 4        4      4  \n",
      "21                10        1      4  \n",
      "22                 1        1      2  \n",
      "23                 3        1      4  \n",
      "24                 1        1      2  \n",
      "25                 6        1      4  \n",
      "26                 1        1      2  \n",
      "27                 1        1      2  \n",
      "28                 1        1      2  \n",
      "29                 1        1      2  \n",
      "..               ...      ...    ...  \n",
      "669               10        1      4  \n",
      "670                4        1      4  \n",
      "671                1        1      2  \n",
      "672                1        1      2  \n",
      "673                1        1      2  \n",
      "674                1        1      2  \n",
      "675                1        1      2  \n",
      "676                1        1      2  \n",
      "677                1        1      2  \n",
      "678                1        1      2  \n",
      "679                1        1      2  \n",
      "680               10        7      4  \n",
      "681                6        3      4  \n",
      "682                2        1      2  \n",
      "683                1        1      2  \n",
      "684                1        1      2  \n",
      "685                1        1      2  \n",
      "686                1        1      2  \n",
      "687                3        1      2  \n",
      "688                1        1      2  \n",
      "689                1        8      2  \n",
      "690                1        1      2  \n",
      "691                4        1      4  \n",
      "692                1        1      2  \n",
      "693                1        2      2  \n",
      "694                1        1      2  \n",
      "695                1        1      2  \n",
      "696               10        2      4  \n",
      "697                6        1      4  \n",
      "698                4        1      4  \n",
      "\n",
      "[699 rows x 11 columns]\n"
     ]
    }
   ],
   "source": [
    "\n",
    "path = 'C:\\\\RICARDO\\\\breastcancer.txt'\n",
    "a=pd.read_csv(path,delimiter=\",\",names=('Sample code number', 'Clump Thickness', 'Uniformity of Cell Size','Uniformity of Cell Shape','Marginal Adhesion ','Single Epithelial Cell Size','Bare Nuclei',' Bland Chromatin','Normal Nucleoli','Mitoses','Class'))\n",
    "print(a)"
   ]
  },
  {
   "cell_type": "markdown",
   "metadata": {},
   "source": [
    "As it was described in the first part, the column 1 and 11 will be excluded of the analysis because these are not relevant features. To exclude these columns, it was used the function __iloc__ from Pandas. This function selects the columns and rows of a dataframe. In this function is used __:__ to indicate that all of the rows or instances have been considered.\n",
    "\n",
    "As we can see, it was created 2 dataframes _a and c_ which store the information of interest. The variable __c will help to replace missed data represented by ?__ in the database by the __average of the column__"
   ]
  },
  {
   "cell_type": "code",
   "execution_count": 3,
   "metadata": {},
   "outputs": [],
   "source": [
    "b=a.iloc[:,1:10]\n",
    "c=a.iloc[:,1:10]\n",
    "#print(b)\n",
    "#print(c)"
   ]
  },
  {
   "cell_type": "markdown",
   "metadata": {},
   "source": [
    "As we describe missed data is represented by **`?`** in the dataset. For this reason, **`?`** will be modified by **`0`** with the goal to calculate the average of each column. In addition, we can highlight that each element of the dataframe is the type __`string`__. Hence, it is necessary to change it into **`numeric`** to calculate the average of each column. "
   ]
  },
  {
   "cell_type": "code",
   "execution_count": 4,
   "metadata": {},
   "outputs": [
    {
     "name": "stdout",
     "output_type": "stream",
     "text": [
      "     Clump Thickness  Uniformity of Cell Size  Uniformity of Cell Shape  \\\n",
      "0                  5                        1                         1   \n",
      "1                  5                        4                         4   \n",
      "2                  3                        1                         1   \n",
      "3                  6                        8                         8   \n",
      "4                  4                        1                         1   \n",
      "5                  8                       10                        10   \n",
      "6                  1                        1                         1   \n",
      "7                  2                        1                         2   \n",
      "8                  2                        1                         1   \n",
      "9                  4                        2                         1   \n",
      "10                 1                        1                         1   \n",
      "11                 2                        1                         1   \n",
      "12                 5                        3                         3   \n",
      "13                 1                        1                         1   \n",
      "14                 8                        7                         5   \n",
      "15                 7                        4                         6   \n",
      "16                 4                        1                         1   \n",
      "17                 4                        1                         1   \n",
      "18                10                        7                         7   \n",
      "19                 6                        1                         1   \n",
      "20                 7                        3                         2   \n",
      "21                10                        5                         5   \n",
      "22                 3                        1                         1   \n",
      "23                 8                        4                         5   \n",
      "24                 1                        1                         1   \n",
      "25                 5                        2                         3   \n",
      "26                 3                        2                         1   \n",
      "27                 5                        1                         1   \n",
      "28                 2                        1                         1   \n",
      "29                 1                        1                         3   \n",
      "..               ...                      ...                       ...   \n",
      "669                5                       10                        10   \n",
      "670                3                       10                         7   \n",
      "671                3                        2                         1   \n",
      "672                2                        1                         1   \n",
      "673                5                        3                         2   \n",
      "674                1                        1                         1   \n",
      "675                4                        1                         4   \n",
      "676                1                        1                         2   \n",
      "677                5                        1                         1   \n",
      "678                1                        1                         1   \n",
      "679                2                        1                         1   \n",
      "680               10                       10                        10   \n",
      "681                5                       10                        10   \n",
      "682                5                        1                         1   \n",
      "683                1                        1                         1   \n",
      "684                1                        1                         1   \n",
      "685                1                        1                         1   \n",
      "686                1                        1                         1   \n",
      "687                3                        1                         1   \n",
      "688                4                        1                         1   \n",
      "689                1                        1                         1   \n",
      "690                1                        1                         1   \n",
      "691                5                       10                        10   \n",
      "692                3                        1                         1   \n",
      "693                3                        1                         1   \n",
      "694                3                        1                         1   \n",
      "695                2                        1                         1   \n",
      "696                5                       10                        10   \n",
      "697                4                        8                         6   \n",
      "698                4                        8                         8   \n",
      "\n",
      "     Marginal Adhesion   Single Epithelial Cell Size  Bare Nuclei  \\\n",
      "0                     1                            2            1   \n",
      "1                     5                            7           10   \n",
      "2                     1                            2            2   \n",
      "3                     1                            3            4   \n",
      "4                     3                            2            1   \n",
      "5                     8                            7           10   \n",
      "6                     1                            2           10   \n",
      "7                     1                            2            1   \n",
      "8                     1                            2            1   \n",
      "9                     1                            2            1   \n",
      "10                    1                            1            1   \n",
      "11                    1                            2            1   \n",
      "12                    3                            2            3   \n",
      "13                    1                            2            3   \n",
      "14                   10                            7            9   \n",
      "15                    4                            6            1   \n",
      "16                    1                            2            1   \n",
      "17                    1                            2            1   \n",
      "18                    6                            4           10   \n",
      "19                    1                            2            1   \n",
      "20                   10                            5           10   \n",
      "21                    3                            6            7   \n",
      "22                    1                            2            1   \n",
      "23                    1                            2            0   \n",
      "24                    1                            2            1   \n",
      "25                    4                            2            7   \n",
      "26                    1                            1            1   \n",
      "27                    1                            2            1   \n",
      "28                    1                            2            1   \n",
      "29                    1                            2            1   \n",
      "..                  ...                          ...          ...   \n",
      "669                   8                            5            5   \n",
      "670                   8                            5            8   \n",
      "671                   2                            2            1   \n",
      "672                   1                            2            1   \n",
      "673                   1                            3            1   \n",
      "674                   1                            2            1   \n",
      "675                   1                            2            1   \n",
      "676                   1                            2            1   \n",
      "677                   1                            2            1   \n",
      "678                   1                            2            1   \n",
      "679                   1                            2            1   \n",
      "680                  10                            5           10   \n",
      "681                  10                            4           10   \n",
      "682                   1                            2            1   \n",
      "683                   1                            2            1   \n",
      "684                   1                            2            1   \n",
      "685                   1                            2            1   \n",
      "686                   1                            2            1   \n",
      "687                   1                            2            1   \n",
      "688                   1                            2            1   \n",
      "689                   1                            2            1   \n",
      "690                   3                            2            1   \n",
      "691                   5                            4            5   \n",
      "692                   1                            2            1   \n",
      "693                   1                            2            1   \n",
      "694                   1                            3            2   \n",
      "695                   1                            2            1   \n",
      "696                   3                            7            3   \n",
      "697                   4                            3            4   \n",
      "698                   5                            4            5   \n",
      "\n",
      "      Bland Chromatin  Normal Nucleoli  Mitoses  \n",
      "0                   3                1        1  \n",
      "1                   3                2        1  \n",
      "2                   3                1        1  \n",
      "3                   3                7        1  \n",
      "4                   3                1        1  \n",
      "5                   9                7        1  \n",
      "6                   3                1        1  \n",
      "7                   3                1        1  \n",
      "8                   1                1        5  \n",
      "9                   2                1        1  \n",
      "10                  3                1        1  \n",
      "11                  2                1        1  \n",
      "12                  4                4        1  \n",
      "13                  3                1        1  \n",
      "14                  5                5        4  \n",
      "15                  4                3        1  \n",
      "16                  2                1        1  \n",
      "17                  3                1        1  \n",
      "18                  4                1        2  \n",
      "19                  3                1        1  \n",
      "20                  5                4        4  \n",
      "21                  7               10        1  \n",
      "22                  2                1        1  \n",
      "23                  7                3        1  \n",
      "24                  3                1        1  \n",
      "25                  3                6        1  \n",
      "26                  2                1        1  \n",
      "27                  2                1        1  \n",
      "28                  2                1        1  \n",
      "29                  1                1        1  \n",
      "..                ...              ...      ...  \n",
      "669                 7               10        1  \n",
      "670                 7                4        1  \n",
      "671                 3                1        1  \n",
      "672                 3                1        1  \n",
      "673                 1                1        1  \n",
      "674                 2                1        1  \n",
      "675                 1                1        1  \n",
      "676                 2                1        1  \n",
      "677                 1                1        1  \n",
      "678                 1                1        1  \n",
      "679                 1                1        1  \n",
      "680                10               10        7  \n",
      "681                 5                6        3  \n",
      "682                 3                2        1  \n",
      "683                 1                1        1  \n",
      "684                 1                1        1  \n",
      "685                 1                1        1  \n",
      "686                 1                1        1  \n",
      "687                 2                3        1  \n",
      "688                 1                1        1  \n",
      "689                 1                1        8  \n",
      "690                 1                1        1  \n",
      "691                 4                4        1  \n",
      "692                 1                1        1  \n",
      "693                 2                1        2  \n",
      "694                 1                1        1  \n",
      "695                 1                1        1  \n",
      "696                 8               10        2  \n",
      "697                10                6        1  \n",
      "698                10                4        1  \n",
      "\n",
      "[699 rows x 9 columns]\n"
     ]
    },
    {
     "name": "stderr",
     "output_type": "stream",
     "text": [
      "c:\\users\\ramanzan\\appdata\\local\\programs\\python\\python36\\lib\\site-packages\\ipykernel_launcher.py:2: FutureWarning: convert_objects is deprecated.  To re-infer data dtypes for object columns, use DataFrame.infer_objects()\n",
      "For all other conversions use the data-type specific converters pd.to_datetime, pd.to_timedelta and pd.to_numeric.\n",
      "  \n"
     ]
    }
   ],
   "source": [
    "c=c.replace('?',0)\n",
    "c=c.convert_objects(convert_numeric=True)\n",
    "print(c)\n",
    "c.to_csv('file_name.csv', sep=',')\n"
   ]
  },
  {
   "cell_type": "markdown",
   "metadata": {},
   "source": [
    "The next lines are used to calculate the mean of each column. \n",
    "\n",
    "After missed values **`?`** in the matrix **`a`** will be replaced by the mean of each column."
   ]
  },
  {
   "cell_type": "code",
   "execution_count": 5,
   "metadata": {},
   "outputs": [
    {
     "name": "stdout",
     "output_type": "stream",
     "text": [
      "     Clump Thickness  Uniformity of Cell Size  Uniformity of Cell Shape  \\\n",
      "0                  5                        1                         1   \n",
      "1                  5                        4                         4   \n",
      "2                  3                        1                         1   \n",
      "3                  6                        8                         8   \n",
      "4                  4                        1                         1   \n",
      "5                  8                       10                        10   \n",
      "6                  1                        1                         1   \n",
      "7                  2                        1                         2   \n",
      "8                  2                        1                         1   \n",
      "9                  4                        2                         1   \n",
      "10                 1                        1                         1   \n",
      "11                 2                        1                         1   \n",
      "12                 5                        3                         3   \n",
      "13                 1                        1                         1   \n",
      "14                 8                        7                         5   \n",
      "15                 7                        4                         6   \n",
      "16                 4                        1                         1   \n",
      "17                 4                        1                         1   \n",
      "18                10                        7                         7   \n",
      "19                 6                        1                         1   \n",
      "20                 7                        3                         2   \n",
      "21                10                        5                         5   \n",
      "22                 3                        1                         1   \n",
      "23                 8                        4                         5   \n",
      "24                 1                        1                         1   \n",
      "25                 5                        2                         3   \n",
      "26                 3                        2                         1   \n",
      "27                 5                        1                         1   \n",
      "28                 2                        1                         1   \n",
      "29                 1                        1                         3   \n",
      "..               ...                      ...                       ...   \n",
      "669                5                       10                        10   \n",
      "670                3                       10                         7   \n",
      "671                3                        2                         1   \n",
      "672                2                        1                         1   \n",
      "673                5                        3                         2   \n",
      "674                1                        1                         1   \n",
      "675                4                        1                         4   \n",
      "676                1                        1                         2   \n",
      "677                5                        1                         1   \n",
      "678                1                        1                         1   \n",
      "679                2                        1                         1   \n",
      "680               10                       10                        10   \n",
      "681                5                       10                        10   \n",
      "682                5                        1                         1   \n",
      "683                1                        1                         1   \n",
      "684                1                        1                         1   \n",
      "685                1                        1                         1   \n",
      "686                1                        1                         1   \n",
      "687                3                        1                         1   \n",
      "688                4                        1                         1   \n",
      "689                1                        1                         1   \n",
      "690                1                        1                         1   \n",
      "691                5                       10                        10   \n",
      "692                3                        1                         1   \n",
      "693                3                        1                         1   \n",
      "694                3                        1                         1   \n",
      "695                2                        1                         1   \n",
      "696                5                       10                        10   \n",
      "697                4                        8                         6   \n",
      "698                4                        8                         8   \n",
      "\n",
      "     Marginal Adhesion   Single Epithelial Cell Size  Bare Nuclei  \\\n",
      "0                     1                            2     1.000000   \n",
      "1                     5                            7    10.000000   \n",
      "2                     1                            2     2.000000   \n",
      "3                     1                            3     4.000000   \n",
      "4                     3                            2     1.000000   \n",
      "5                     8                            7    10.000000   \n",
      "6                     1                            2    10.000000   \n",
      "7                     1                            2     1.000000   \n",
      "8                     1                            2     1.000000   \n",
      "9                     1                            2     1.000000   \n",
      "10                    1                            1     1.000000   \n",
      "11                    1                            2     1.000000   \n",
      "12                    3                            2     3.000000   \n",
      "13                    1                            2     3.000000   \n",
      "14                   10                            7     9.000000   \n",
      "15                    4                            6     1.000000   \n",
      "16                    1                            2     1.000000   \n",
      "17                    1                            2     1.000000   \n",
      "18                    6                            4    10.000000   \n",
      "19                    1                            2     1.000000   \n",
      "20                   10                            5    10.000000   \n",
      "21                    3                            6     7.000000   \n",
      "22                    1                            2     1.000000   \n",
      "23                    1                            2     3.463519   \n",
      "24                    1                            2     1.000000   \n",
      "25                    4                            2     7.000000   \n",
      "26                    1                            1     1.000000   \n",
      "27                    1                            2     1.000000   \n",
      "28                    1                            2     1.000000   \n",
      "29                    1                            2     1.000000   \n",
      "..                  ...                          ...          ...   \n",
      "669                   8                            5     5.000000   \n",
      "670                   8                            5     8.000000   \n",
      "671                   2                            2     1.000000   \n",
      "672                   1                            2     1.000000   \n",
      "673                   1                            3     1.000000   \n",
      "674                   1                            2     1.000000   \n",
      "675                   1                            2     1.000000   \n",
      "676                   1                            2     1.000000   \n",
      "677                   1                            2     1.000000   \n",
      "678                   1                            2     1.000000   \n",
      "679                   1                            2     1.000000   \n",
      "680                  10                            5    10.000000   \n",
      "681                  10                            4    10.000000   \n",
      "682                   1                            2     1.000000   \n",
      "683                   1                            2     1.000000   \n",
      "684                   1                            2     1.000000   \n",
      "685                   1                            2     1.000000   \n",
      "686                   1                            2     1.000000   \n",
      "687                   1                            2     1.000000   \n",
      "688                   1                            2     1.000000   \n",
      "689                   1                            2     1.000000   \n",
      "690                   3                            2     1.000000   \n",
      "691                   5                            4     5.000000   \n",
      "692                   1                            2     1.000000   \n",
      "693                   1                            2     1.000000   \n",
      "694                   1                            3     2.000000   \n",
      "695                   1                            2     1.000000   \n",
      "696                   3                            7     3.000000   \n",
      "697                   4                            3     4.000000   \n",
      "698                   5                            4     5.000000   \n",
      "\n",
      "      Bland Chromatin  Normal Nucleoli  Mitoses  \n",
      "0                   3                1        1  \n",
      "1                   3                2        1  \n",
      "2                   3                1        1  \n",
      "3                   3                7        1  \n",
      "4                   3                1        1  \n",
      "5                   9                7        1  \n",
      "6                   3                1        1  \n",
      "7                   3                1        1  \n",
      "8                   1                1        5  \n",
      "9                   2                1        1  \n",
      "10                  3                1        1  \n",
      "11                  2                1        1  \n",
      "12                  4                4        1  \n",
      "13                  3                1        1  \n",
      "14                  5                5        4  \n",
      "15                  4                3        1  \n",
      "16                  2                1        1  \n",
      "17                  3                1        1  \n",
      "18                  4                1        2  \n",
      "19                  3                1        1  \n",
      "20                  5                4        4  \n",
      "21                  7               10        1  \n",
      "22                  2                1        1  \n",
      "23                  7                3        1  \n",
      "24                  3                1        1  \n",
      "25                  3                6        1  \n",
      "26                  2                1        1  \n",
      "27                  2                1        1  \n",
      "28                  2                1        1  \n",
      "29                  1                1        1  \n",
      "..                ...              ...      ...  \n",
      "669                 7               10        1  \n",
      "670                 7                4        1  \n",
      "671                 3                1        1  \n",
      "672                 3                1        1  \n",
      "673                 1                1        1  \n",
      "674                 2                1        1  \n",
      "675                 1                1        1  \n",
      "676                 2                1        1  \n",
      "677                 1                1        1  \n",
      "678                 1                1        1  \n",
      "679                 1                1        1  \n",
      "680                10               10        7  \n",
      "681                 5                6        3  \n",
      "682                 3                2        1  \n",
      "683                 1                1        1  \n",
      "684                 1                1        1  \n",
      "685                 1                1        1  \n",
      "686                 1                1        1  \n",
      "687                 2                3        1  \n",
      "688                 1                1        1  \n",
      "689                 1                1        8  \n",
      "690                 1                1        1  \n",
      "691                 4                4        1  \n",
      "692                 1                1        1  \n",
      "693                 2                1        2  \n",
      "694                 1                1        1  \n",
      "695                 1                1        1  \n",
      "696                 8               10        2  \n",
      "697                10                6        1  \n",
      "698                10                4        1  \n",
      "\n",
      "[699 rows x 9 columns]\n"
     ]
    },
    {
     "name": "stderr",
     "output_type": "stream",
     "text": [
      "c:\\users\\ramanzan\\appdata\\local\\programs\\python\\python36\\lib\\site-packages\\ipykernel_launcher.py:4: FutureWarning: convert_objects is deprecated.  To re-infer data dtypes for object columns, use DataFrame.infer_objects()\n",
      "For all other conversions use the data-type specific converters pd.to_datetime, pd.to_timedelta and pd.to_numeric.\n",
      "  after removing the cwd from sys.path.\n"
     ]
    }
   ],
   "source": [
    " for m in range(9):\n",
    "        d=c.iloc[:,m].mean()\n",
    "        b.iloc[:,m]=b.iloc[:,m].replace('?', d)\n",
    "b=b.convert_objects(convert_numeric=True)\n",
    "\n",
    "b.to_csv('file_name2.csv', sep=',')\n",
    "print(b)"
   ]
  },
  {
   "cell_type": "markdown",
   "metadata": {},
   "source": [
    "QUESTION 1."
   ]
  },
  {
   "cell_type": "markdown",
   "metadata": {},
   "source": [
    "In this question is necessary to calculate the mean, mode, skew, standard deviation, and variance of the attributes selected as important. To do that it was used some functions of Pandas which return the mean, mode, skew, std and variance for each column. As we can see in the following lines"
   ]
  },
  {
   "cell_type": "code",
   "execution_count": 6,
   "metadata": {},
   "outputs": [
    {
     "data": {
      "text/plain": [
       "Clump Thickness                4.417740\n",
       "Uniformity of Cell Size        3.134478\n",
       "Uniformity of Cell Shape       3.207439\n",
       "Marginal Adhesion              2.806867\n",
       "Single Epithelial Cell Size    3.216023\n",
       "Bare Nuclei                    3.542799\n",
       " Bland Chromatin               3.437768\n",
       "Normal Nucleoli                2.866953\n",
       "Mitoses                        1.589413\n",
       "dtype: float64"
      ]
     },
     "execution_count": 6,
     "metadata": {},
     "output_type": "execute_result"
    }
   ],
   "source": [
    "b.mean()"
   ]
  },
  {
   "cell_type": "code",
   "execution_count": 7,
   "metadata": {},
   "outputs": [
    {
     "data": {
      "text/html": [
       "<div>\n",
       "<style scoped>\n",
       "    .dataframe tbody tr th:only-of-type {\n",
       "        vertical-align: middle;\n",
       "    }\n",
       "\n",
       "    .dataframe tbody tr th {\n",
       "        vertical-align: top;\n",
       "    }\n",
       "\n",
       "    .dataframe thead th {\n",
       "        text-align: right;\n",
       "    }\n",
       "</style>\n",
       "<table border=\"1\" class=\"dataframe\">\n",
       "  <thead>\n",
       "    <tr style=\"text-align: right;\">\n",
       "      <th></th>\n",
       "      <th>Clump Thickness</th>\n",
       "      <th>Uniformity of Cell Size</th>\n",
       "      <th>Uniformity of Cell Shape</th>\n",
       "      <th>Marginal Adhesion</th>\n",
       "      <th>Single Epithelial Cell Size</th>\n",
       "      <th>Bare Nuclei</th>\n",
       "      <th>Bland Chromatin</th>\n",
       "      <th>Normal Nucleoli</th>\n",
       "      <th>Mitoses</th>\n",
       "    </tr>\n",
       "  </thead>\n",
       "  <tbody>\n",
       "    <tr>\n",
       "      <th>0</th>\n",
       "      <td>1</td>\n",
       "      <td>1</td>\n",
       "      <td>1</td>\n",
       "      <td>1</td>\n",
       "      <td>2</td>\n",
       "      <td>1.0</td>\n",
       "      <td>2</td>\n",
       "      <td>1</td>\n",
       "      <td>1</td>\n",
       "    </tr>\n",
       "  </tbody>\n",
       "</table>\n",
       "</div>"
      ],
      "text/plain": [
       "   Clump Thickness  Uniformity of Cell Size  Uniformity of Cell Shape  \\\n",
       "0                1                        1                         1   \n",
       "\n",
       "   Marginal Adhesion   Single Epithelial Cell Size  Bare Nuclei  \\\n",
       "0                   1                            2          1.0   \n",
       "\n",
       "    Bland Chromatin  Normal Nucleoli  Mitoses  \n",
       "0                 2                1        1  "
      ]
     },
     "execution_count": 7,
     "metadata": {},
     "output_type": "execute_result"
    }
   ],
   "source": [
    "b.mode()"
   ]
  },
  {
   "cell_type": "code",
   "execution_count": 8,
   "metadata": {},
   "outputs": [
    {
     "data": {
      "text/plain": [
       "Clump Thickness                0.592859\n",
       "Uniformity of Cell Size        1.233137\n",
       "Uniformity of Cell Shape       1.161859\n",
       "Marginal Adhesion              1.524468\n",
       "Single Epithelial Cell Size    1.712172\n",
       "Bare Nuclei                    1.003028\n",
       " Bland Chromatin               1.099969\n",
       "Normal Nucleoli                1.422261\n",
       "Mitoses                        3.560658\n",
       "dtype: float64"
      ]
     },
     "execution_count": 8,
     "metadata": {},
     "output_type": "execute_result"
    }
   ],
   "source": [
    "b.skew()"
   ]
  },
  {
   "cell_type": "code",
   "execution_count": 9,
   "metadata": {},
   "outputs": [
    {
     "data": {
      "text/plain": [
       "Clump Thickness                2.815741\n",
       "Uniformity of Cell Size        3.051459\n",
       "Uniformity of Cell Shape       2.971913\n",
       "Marginal Adhesion              2.855379\n",
       "Single Epithelial Cell Size    2.214300\n",
       "Bare Nuclei                    3.601872\n",
       " Bland Chromatin               2.438364\n",
       "Normal Nucleoli                3.053634\n",
       "Mitoses                        1.715078\n",
       "dtype: float64"
      ]
     },
     "execution_count": 9,
     "metadata": {},
     "output_type": "execute_result"
    }
   ],
   "source": [
    "b.std()"
   ]
  },
  {
   "cell_type": "code",
   "execution_count": 10,
   "metadata": {},
   "outputs": [
    {
     "data": {
      "text/plain": [
       "Clump Thickness                 7.928395\n",
       "Uniformity of Cell Size         9.311403\n",
       "Uniformity of Cell Shape        8.832265\n",
       "Marginal Adhesion               8.153191\n",
       "Single Epithelial Cell Size     4.903124\n",
       "Bare Nuclei                    12.973483\n",
       " Bland Chromatin                5.945620\n",
       "Normal Nucleoli                 9.324680\n",
       "Mitoses                         2.941492\n",
       "dtype: float64"
      ]
     },
     "execution_count": 10,
     "metadata": {},
     "output_type": "execute_result"
    }
   ],
   "source": [
    "b.var()"
   ]
  },
  {
   "cell_type": "markdown",
   "metadata": {
    "scrolled": true
   },
   "source": [
    "QUESTION 2."
   ]
  },
  {
   "cell_type": "markdown",
   "metadata": {},
   "source": [
    "In this question is necessary to calculate the PCC(Pearson correlation coefficient) among attributes.\n",
    "PCC is applied to two attributes. It means that if we have more than two attributes, we need to select attributes in pairs. This test proves if these two attributes are correlated among them. If it is obtained a positive value near to +1, it means that exist a linear positive correlation. If the value obtained is near to -1, it means that exist a negative linear correlation. Finally, if the value is near to 0, it means that there is not exist a linear correlation.\n",
    "\n",
    "In this section, it was programmed to test all the attributes in pairs as it is shown in the following code"
   ]
  },
  {
   "cell_type": "code",
   "execution_count": 11,
   "metadata": {},
   "outputs": [],
   "source": [
    "correlation = b.corr(method='pearson')"
   ]
  },
  {
   "cell_type": "code",
   "execution_count": 12,
   "metadata": {},
   "outputs": [
    {
     "name": "stdout",
     "output_type": "stream",
     "text": [
      "[[1.         0.6449125  0.65458908 0.48635624 0.52181622 0.58748763\n",
      "  0.55842816 0.53583455 0.35003386]\n",
      " [0.6449125  1.         0.90688191 0.70558181 0.75179913 0.68691547\n",
      "  0.75572098 0.72286482 0.45869315]\n",
      " [0.65458908 0.90688191 1.         0.6830792  0.71966844 0.70965951\n",
      "  0.73594845 0.71944632 0.43891093]\n",
      " [0.48635624 0.70558181 0.6830792  1.         0.59959907 0.66522521\n",
      "  0.66671533 0.60335241 0.41763278]\n",
      " [0.52181622 0.75179913 0.71966844 0.59959907 1.         0.5814395\n",
      "  0.61610184 0.62888069 0.47910148]\n",
      " [0.58748763 0.68691547 0.70965951 0.66522521 0.5814395  1.\n",
      "  0.67595798 0.57737827 0.33891571]\n",
      " [0.55842816 0.75572098 0.73594845 0.66671533 0.61610184 0.67595798\n",
      "  1.         0.66587781 0.3441695 ]\n",
      " [0.53583455 0.72286482 0.71944632 0.60335241 0.62888069 0.57737827\n",
      "  0.66587781 1.         0.42833575]\n",
      " [0.35003386 0.45869315 0.43891093 0.41763278 0.47910148 0.33891571\n",
      "  0.3441695  0.42833575 1.        ]]\n"
     ]
    }
   ],
   "source": [
    "correlation_matrix=num.zeros(shape=(9,9))\n",
    "for m in range(9):\n",
    "      for s in range(9):\n",
    "                correlation_matrix[m,s]=b.iloc[:,m].corr(b.iloc[:,s])\n",
    "                #print(m,s)\n",
    "print(correlation_matrix)\n",
    "#num.savetxt(\"correlation.csv\", correlation_matrix, delimiter=\",\")"
   ]
  },
  {
   "cell_type": "markdown",
   "metadata": {},
   "source": [
    "As we can see in the results. We can conclude that all the values for pearson correlation among all the attributes are positive. It means that all of the variables have a linear positive correlation among them"
   ]
  },
  {
   "cell_type": "markdown",
   "metadata": {},
   "source": [
    "QUESTION 3."
   ]
  },
  {
   "cell_type": "markdown",
   "metadata": {},
   "source": [
    "In this question is necessary to plot histograms of 2 attributes selected randomly, but it is necessary to discriminate between benign or malignant cancer. To accomplish this requirement, it is used the iloc function with condition. If the value is 4, it will be plotted the histograms of the attributes for malignant cancer. It is necessary to highlight that in this question is used the dataframe **`a`** because it has the label which is necessary to discriminate between bening and malignant cancer. dataframe **`b`** does not have this information"
   ]
  },
  {
   "cell_type": "code",
   "execution_count": 13,
   "metadata": {},
   "outputs": [
    {
     "data": {
      "text/plain": [
       "Text(0, 0.5, 'Frequency')"
      ]
     },
     "execution_count": 13,
     "metadata": {},
     "output_type": "execute_result"
    },
    {
     "data": {
      "image/png": "[encoded data removed]",
      "text/plain": [
       "<Figure size 432x288 with 1 Axes>"
      ]
     },
     "metadata": {
      "needs_background": "light"
     },
     "output_type": "display_data"
    },
    {
     "data": {
      "image/png": "[encoded data removed]",
      "text/plain": [
       "<Figure size 432x288 with 1 Axes>"
      ]
     },
     "metadata": {
      "needs_background": "light"
     },
     "output_type": "display_data"
    }
   ],
   "source": [
    "malignant=a[a.iloc[:,10]==4]\n",
    "#print(malignant)\n",
    "#malignant.to_csv('malignant.csv', sep=',')\n",
    "#mitoses\n",
    "plt.figure(1)\n",
    "malignant.iloc[:,9].hist(bins=10)\n",
    "plt.suptitle('Histogram Malignant Mitoses', x=0.5, y=1.05, ha='center', fontsize='xx-large')\n",
    "plt.xlabel(\"Mitoses\")\n",
    "plt.ylabel(\"Frequency\")\n",
    "#Bare Nuclei  \n",
    "plt.figure(2)\n",
    "malignant.iloc[:,5].hist(bins=10)\n",
    "plt.suptitle('Histogram Malignant Bare Nuclei  ', x=0.5, y=1.05, ha='center', fontsize='xx-large')\n",
    "plt.xlabel(\"Bare Nuclei \")\n",
    "plt.ylabel(\"Frequency\")"
   ]
  },
  {
   "cell_type": "markdown",
   "metadata": {},
   "source": [
    "Finally to plot the histograms for the same features plotted above. It is necessary to use the function iloc with condition. Now the condition choses all the attributes that result in benign cancer, and it happens when the value of the label is 2.\n"
   ]
  },
  {
   "cell_type": "code",
   "execution_count": 22,
   "metadata": {},
   "outputs": [
    {
     "data": {
      "text/plain": [
       "Text(0, 0.5, 'Frequency')"
      ]
     },
     "execution_count": 22,
     "metadata": {},
     "output_type": "execute_result"
    },
    {
     "data": {
      "image/png": "[encoded data removed]",
      "text/plain": [
       "<Figure size 432x288 with 1 Axes>"
      ]
     },
     "metadata": {
      "needs_background": "light"
     },
     "output_type": "display_data"
    },
    {
     "data": {
      "image/png": "[encoded data removed]",
      "text/plain": [
       "<Figure size 432x288 with 1 Axes>"
      ]
     },
     "metadata": {
      "needs_background": "light"
     },
     "output_type": "display_data"
    }
   ],
   "source": [
    "\n",
    "benign=a[a.iloc[:,10]==2]\n",
    "#benign.to_csv('=benign.csv', sep=',')\n",
    "#mitoses\n",
    "plt.figure(1)\n",
    "benign.iloc[:,9].hist(bins=10)\n",
    "plt.suptitle('Histogram benign Mitoses', x=0.5, y=1.05, ha='center', fontsize='xx-large')\n",
    "plt.xlabel(\"Mitoses\")\n",
    "plt.ylabel(\"Frequency\")\n",
    "#Bare Nuclei  \n",
    "plt.figure(2)\n",
    "benign.iloc[:,5].hist(bins=10)\n",
    "plt.suptitle('Histogram benign Bare Nuclei  ', x=0.5, y=1.05, ha='center', fontsize='xx-large')\n",
    "plt.xlabel(\"Bare Nuclei \")\n",
    "plt.ylabel(\"Frequency\")\n"
   ]
  },
  {
   "cell_type": "markdown",
   "metadata": {},
   "source": [
    "CONCLUSION."
   ]
  },
  {
   "cell_type": "markdown",
   "metadata": {
    "scrolled": true
   },
   "source": [
    "In the present homework, it was validated different basic but useful functions which will use in most of the cases before to apply a classification or regression problem in data. This function in most of the cases help to analyze the data and decide what kind of algortihm will be apply to obtain better results"
   ]
  },
  {
   "cell_type": "code",
   "execution_count": null,
   "metadata": {},
   "outputs": [],
   "source": []
  }
 ],
 "metadata": {
  "kernelspec": {
   "display_name": "Python 3",
   "language": "python",
   "name": "python3"
  },
  "language_info": {
   "codemirror_mode": {
    "name": "ipython",
    "version": 3
   },
   "file_extension": ".py",
   "mimetype": "text/x-python",
   "name": "python",
   "nbconvert_exporter": "python",
   "pygments_lexer": "ipython3",
   "version": "3.6.0"
  }
 },
 "nbformat": 4,
 "nbformat_minor": 2
}
